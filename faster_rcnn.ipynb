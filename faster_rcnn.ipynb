{
 "cells": [
  {
   "cell_type": "code",
   "execution_count": 1,
   "metadata": {},
   "outputs": [
    {
     "name": "stdout",
     "output_type": "stream",
     "text": [
      "2.0.1+cu117\n",
      "0.15.2+cu117\n"
     ]
    }
   ],
   "source": [
    "import os\n",
    "import random \n",
    "import numpy as np\n",
    "import pandas as pd\n",
    "\n",
    "import cv2\n",
    "import matplotlib.pyplot as plt\n",
    "import matplotlib.patches as patches\n",
    "\n",
    "import torch\n",
    "print(torch.__version__)\n",
    "import torchvision\n",
    "print(torchvision.__version__)\n",
    "from torchvision import transforms as torchtrans\n",
    "from torchvision.models.detection.faster_rcnn import FastRCNNPredictor\n",
    "\n",
    "from engine import train_one_epoch, evaluate\n",
    "import utils\n",
    "import transforms as T\n",
    "\n",
    "import albumentations as A\n",
    "from albumentations.pytorch.transforms import ToTensorV2"
   ]
  },
  {
   "cell_type": "code",
   "execution_count": 2,
   "metadata": {},
   "outputs": [
    {
     "name": "stdout",
     "output_type": "stream",
     "text": [
      "loading Roboflow workspace...\n",
      "loading Roboflow project...\n",
      "Dependency ultralytics==8.0.134 is required but found version=8.0.153, to fix: `pip install ultralytics==8.0.134`\n",
      "Downloading Dataset Version Zip in Football-Player-Detection-8 to yolov8: 100% [12596861 / 12596861] bytes\n"
     ]
    },
    {
     "name": "stderr",
     "output_type": "stream",
     "text": [
      "Extracting Dataset Version Zip to Football-Player-Detection-8 in yolov8:: 100%|██████████| 115/115 [00:00<00:00, 4412.92it/s]\n"
     ]
    },
    {
     "data": {
      "text/plain": [
       "'/home/mikkel/VSC/football-player-detection/Football-Player-Detection-8'"
      ]
     },
     "execution_count": 2,
     "metadata": {},
     "output_type": "execute_result"
    }
   ],
   "source": [
    "dataset_location = utils.load_rf_data(8)\n",
    "dataset_location"
   ]
  },
  {
   "cell_type": "code",
   "execution_count": 3,
   "metadata": {},
   "outputs": [
    {
     "data": {
      "text/plain": [
       "['0b1495d3_1_mp4-6_jpg.rf.c22374d6e8a8cffe9d8f59eb778a88bb.jpg',\n",
       " '0b1495d3_0_mp4-8_jpg.rf.41d36e3782fbaea024a3768566c2eb99.jpg',\n",
       " '4dae79a9_0_mp4-1_jpg.rf.da1edbbd02e1a35afacbd37f243b0e1d.jpg',\n",
       " '2f54ed1c_0_mp4-0_jpg.rf.996817f8fc76090def995c9732615b57.jpg',\n",
       " '0b1495d3_0_mp4-0_jpg.rf.e50ef4d39b81adc248bda0b401c88fc4.jpg',\n",
       " '0b1495d3_0_mp4-0_jpg.rf.ca741cd9d337202959249e6cd18afdad.jpg',\n",
       " '9a70c54e_1_mp4-0_jpg.rf.952a64f5b62e78917a64f6b177599160.jpg',\n",
       " '0b1495d3_0_mp4-5_jpg.rf.3470dc2abf32b0d621229b88b6981627.jpg',\n",
       " '0b1495d3_1_mp4-0_jpg.rf.2503c68f752506af07e1202a93693b11.jpg',\n",
       " '0b1495d3_1_mp4-7_jpg.rf.1a1602e2cb4ccc1290b3e7a722e0cc2f.jpg',\n",
       " '0b1495d3_0_mp4-4_jpg.rf.7a860741f643727c09c3406712a64dc2.jpg',\n",
       " '0b1495d3_0_mp4-8_jpg.rf.363420f63286194974fda2e490cca99e.jpg',\n",
       " '4dae79a9_0_mp4-4_jpg.rf.18d0813adb387ab2e29c4a5bb868eafe.jpg',\n",
       " '9f4df856_0_mp4-2_jpg.rf.37ba88ec6f6ebe086fbdbeb7030cf918.jpg',\n",
       " '0b1495d3_0_mp4-1_jpg.rf.4972fa3d70659da3d041b34e99427ad2.jpg',\n",
       " '2f54ed1c_0_mp4-0_jpg.rf.46d7050b3008f45a497bc78334e109e6.jpg',\n",
       " '9a70c54e_1_mp4-1_jpg.rf.77102b3e26cf49a8a1dbe1aff8888373.jpg',\n",
       " '4dae79a9_0_mp4-3_jpg.rf.c0a85ac737e9b91cd39ba63816289eed.jpg',\n",
       " '0b1495d3_0_mp4-1_jpg.rf.e5f97ce8f974c0178de29ba739be9298.jpg',\n",
       " '0b1495d3_0_mp4-7_jpg.rf.01be7454b8bd3a0d26df517cacfd3149.jpg',\n",
       " '0b1495d3_0_mp4-7_jpg.rf.66d8548a6cdcccbebe8c0e24abd5d37e.jpg',\n",
       " '4dae79a9_0_mp4-1_jpg.rf.06a9ea95bc2b6c70c13a4fb85b043861.jpg',\n",
       " '9a70c54e_1_mp4-2_jpg.rf.34d820725b50ea09bbea8c142ae0fa84.jpg',\n",
       " '4dae79a9_0_mp4-3_jpg.rf.ed3fafbe541e60d230b173b743a1f4ec.jpg',\n",
       " '0b1495d3_0_mp4-6_jpg.rf.2c428dce1a9085a9977399994c7ff844.jpg',\n",
       " '4dae79a9_0_mp4-4_jpg.rf.bd329e8d889df655d4432e6ade01e4f7.jpg',\n",
       " '0b1495d3_1_mp4-3_jpg.rf.9c69d449aea39a193ba7b973721a95d4.jpg',\n",
       " '9f4df856_0_mp4-0_jpg.rf.8248eca6f6f0dc3eda460cef3a44c100.jpg',\n",
       " '2f54ed1c_0_mp4-4_jpg.rf.5c25937ad01ec50f2941aecd6b8410a0.jpg',\n",
       " '0b1495d3_0_mp4-5_jpg.rf.c11e17d37a222f20546b20247a7a1cee.jpg',\n",
       " '0b1495d3_1_mp4-5_jpg.rf.7bd9132ab7eff9077b35227f7ee7f608.jpg',\n",
       " '9f4df856_0_mp4-0_jpg.rf.978ba93225631e04f89cdee9342b2428.jpg',\n",
       " '0b1495d3_1_mp4-7_jpg.rf.a60373cbe8aff5a293f3bfe80fe02e76.jpg',\n",
       " '0b1495d3_0_mp4-4_jpg.rf.c4b504721af96da807e9c4b380861c83.jpg',\n",
       " '0b1495d3_1_mp4-1_jpg.rf.d9d559e55bdfc1b499b0e388da7bd520.jpg',\n",
       " '9a70c54e_1_mp4-2_jpg.rf.32ab99b1f10b8bcdda4393a131e46f99.jpg',\n",
       " '0b1495d3_1_mp4-6_jpg.rf.98ad364a0963928f0ce6939fcf04161e.jpg',\n",
       " '9a70c54e_1_mp4-1_jpg.rf.776aa44ee89616a3af5532326032aa56.jpg',\n",
       " '0b1495d3_1_mp4-3_jpg.rf.39b0cd56e82a05ef5b46c01337e541eb.jpg',\n",
       " '0b1495d3_1_mp4-2_jpg.rf.fc8e0ec2c944d45facf68963a9d9f1da.jpg',\n",
       " '0b1495d3_1_mp4-5_jpg.rf.5310cf4fea9cedb214e281971a2077f3.jpg',\n",
       " '0b1495d3_1_mp4-2_jpg.rf.cb4091fe6ab005efa3d2ec783d6bc9d4.jpg',\n",
       " '0b1495d3_0_mp4-9_jpg.rf.2fc3850f941cdff03287b76e6e67ec68.jpg',\n",
       " '0b1495d3_1_mp4-0_jpg.rf.0b0a47d18c185cb7a013c14815588141.jpg',\n",
       " '0b1495d3_0_mp4-6_jpg.rf.03b18e763be5508d60f63ac0da531518.jpg',\n",
       " '9a70c54e_1_mp4-0_jpg.rf.68c846017831448b97329050c202801f.jpg',\n",
       " '0b1495d3_1_mp4-1_jpg.rf.5e2fa19a3dde16a3c164869845aa54f7.jpg']"
      ]
     },
     "execution_count": 3,
     "metadata": {},
     "output_type": "execute_result"
    }
   ],
   "source": [
    "os.listdir(f\"{dataset_location}/train/images\")"
   ]
  },
  {
   "cell_type": "code",
   "execution_count": null,
   "metadata": {},
   "outputs": [],
   "source": [
    "import yaml\n",
    "\n",
    "class Dataset(torch.utils.data.Dataset):\n",
    "\n",
    "    def __init__(self, dataset_location):\n",
    "        with open(f\"{dataset_location}/data.yaml\") as f:\n",
    "            doc = yaml.safe_load(f)\n",
    "            self.img_dir = doc['train']+\"/images\"           \n",
    "            self.label_dir = doc['train']+\"/labels\"\n",
    "            self.classes = doc['names'].insert(0, 'background')\n",
    "\n",
    "        self.imgs = [image for image in sorted(os.listdir(self.img_dir)) if image.endswith(\".jpg\")]\n",
    "    \n",
    "    def __len__(self):\n",
    "        return len(self.labels)\n",
    "\n",
    "    def __getitem__(self, index):\n",
    "        return self.data[index], self.labels[index]\n",
    "    \n",
    "\n",
    "dataset = Dataset(dataset_location)"
   ]
  }
 ],
 "metadata": {
  "kernelspec": {
   "display_name": "Python 3",
   "language": "python",
   "name": "python3"
  },
  "language_info": {
   "codemirror_mode": {
    "name": "ipython",
    "version": 3
   },
   "file_extension": ".py",
   "mimetype": "text/x-python",
   "name": "python",
   "nbconvert_exporter": "python",
   "pygments_lexer": "ipython3",
   "version": "3.10.12"
  },
  "orig_nbformat": 4
 },
 "nbformat": 4,
 "nbformat_minor": 2
}
