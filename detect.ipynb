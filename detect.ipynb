{
 "cells": [
  {
   "cell_type": "markdown",
   "metadata": {},
   "source": [
    "Get the dataset from Roboflow"
   ]
  },
  {
   "cell_type": "code",
   "execution_count": 2,
   "metadata": {},
   "outputs": [
    {
     "name": "stderr",
     "output_type": "stream",
     "text": [
      "/usr/lib/python3/dist-packages/requests/__init__.py:87: RequestsDependencyWarning: urllib3 (2.0.4) or chardet (4.0.0) doesn't match a supported version!\n",
      "  warnings.warn(\"urllib3 ({}) or chardet ({}) doesn't match a supported \"\n"
     ]
    },
    {
     "name": "stdout",
     "output_type": "stream",
     "text": [
      "loading Roboflow workspace...\n",
      "loading Roboflow project...\n",
      "[WARNING] we noticed you are downloading a `yolov8` datasets but you don't have `ultralytics` installed. Roboflow `.deploy` supports only models trained with `ultralytics==8.0.134`, to intall it `pip install ultralytics==8.0.134`.\n",
      "Downloading Dataset Version Zip in Football-Player-Detection-1 to yolov8: 100% [2596651 / 2596651] bytes\n"
     ]
    },
    {
     "name": "stderr",
     "output_type": "stream",
     "text": [
      "Extracting Dataset Version Zip to Football-Player-Detection-1 in yolov8:: 100%|██████████| 32/32 [00:00<00:00, 3267.71it/s]\n"
     ]
    }
   ],
   "source": [
    "from roboflow import Roboflow\n",
    "\n",
    "rf = Roboflow(api_key=\"Ca1rRFvH5jypP7SPFM2a\")\n",
    "project = rf.workspace(\"mikkel-ds\").project(\"football-player-detection-xvszo\")\n",
    "dataset = project.version(1).download(\"yolov8\")"
   ]
  },
  {
   "cell_type": "code",
   "execution_count": 4,
   "metadata": {},
   "outputs": [
    {
     "name": "stdout",
     "output_type": "stream",
     "text": [
      "/home/mikkel/VSC/Footbal Players Detection/football-player-detection/Football-Player-Detection-1/train/images/0b1495d3_0_mp4-8_jpg.rf.41d36e3782fbaea024a3768566c2eb99.jpg\n",
      "(1920, 1080) RGB JPEG\n",
      "/home/mikkel/VSC/Footbal Players Detection/football-player-detection/Football-Player-Detection-1/train/images/0b1495d3_0_mp4-0_jpg.rf.ca741cd9d337202959249e6cd18afdad.jpg\n",
      "(1920, 1080) RGB JPEG\n",
      "/home/mikkel/VSC/Footbal Players Detection/football-player-detection/Football-Player-Detection-1/train/images/0b1495d3_0_mp4-4_jpg.rf.7a860741f643727c09c3406712a64dc2.jpg\n",
      "(1920, 1080) RGB JPEG\n",
      "/home/mikkel/VSC/Footbal Players Detection/football-player-detection/Football-Player-Detection-1/train/images/0b1495d3_0_mp4-1_jpg.rf.4972fa3d70659da3d041b34e99427ad2.jpg\n",
      "(1920, 1080) RGB JPEG\n",
      "/home/mikkel/VSC/Footbal Players Detection/football-player-detection/Football-Player-Detection-1/train/images/0b1495d3_0_mp4-7_jpg.rf.01be7454b8bd3a0d26df517cacfd3149.jpg\n",
      "(1920, 1080) RGB JPEG\n",
      "/home/mikkel/VSC/Footbal Players Detection/football-player-detection/Football-Player-Detection-1/train/images/0b1495d3_0_mp4-5_jpg.rf.c11e17d37a222f20546b20247a7a1cee.jpg\n",
      "(1920, 1080) RGB JPEG\n",
      "/home/mikkel/VSC/Footbal Players Detection/football-player-detection/Football-Player-Detection-1/train/images/0b1495d3_0_mp4-9_jpg.rf.2fc3850f941cdff03287b76e6e67ec68.jpg\n",
      "(1920, 1080) RGB JPEG\n",
      "/home/mikkel/VSC/Footbal Players Detection/football-player-detection/Football-Player-Detection-1/train/images/0b1495d3_0_mp4-6_jpg.rf.03b18e763be5508d60f63ac0da531518.jpg\n",
      "(1920, 1080) RGB JPEG\n"
     ]
    }
   ],
   "source": [
    "from PIL import Image\n",
    "import glob\n",
    "\n",
    "#im = Image.open(f\"{dataset.location}/train/\")\n",
    "\n",
    "name = next(iter(glob.glob(f\"{dataset.location}/train/images/*.jpg\")))\n",
    "im = Image.open(name)\n",
    "print(im.size, im.mode, im.format)"
   ]
  }
 ],
 "metadata": {
  "kernelspec": {
   "display_name": "Python 3",
   "language": "python",
   "name": "python3"
  },
  "language_info": {
   "codemirror_mode": {
    "name": "ipython",
    "version": 3
   },
   "file_extension": ".py",
   "mimetype": "text/x-python",
   "name": "python",
   "nbconvert_exporter": "python",
   "pygments_lexer": "ipython3",
   "version": "3.10.12"
  },
  "orig_nbformat": 4
 },
 "nbformat": 4,
 "nbformat_minor": 2
}
